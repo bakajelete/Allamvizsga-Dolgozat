{
 "cells": [
  {
   "cell_type": "code",
   "execution_count": 75,
   "id": "a4953ce2",
   "metadata": {},
   "outputs": [],
   "source": [
    "import numpy as np\n",
    "import pandas as pd\n",
    "import matplotlib.pyplot as plt\n",
    "import random\n",
    "\n",
    "from mpl_toolkits.axes_grid1 import ImageGrid\n",
    "from pyts.datasets import load_gunpoint\n",
    "from pyts.image import GramianAngularField\n",
    "from pyts.image import MarkovTransitionField\n",
    "from pyts.image import RecurrencePlot\n",
    "\n",
    "from datetime import datetime\n",
    "\n",
    "from PIL import Image"
   ]
  },
  {
   "cell_type": "code",
   "execution_count": 80,
   "id": "0c3d8327",
   "metadata": {},
   "outputs": [],
   "source": [
    "def generate_img_GramianAngularField(X, Y, source, window):\n",
    "        \n",
    "    gaf = GramianAngularField()\n",
    "    X_gaf = gaf.fit_transform(X)\n",
    "    \n",
    "    for i in range(len(X_gaf)):\n",
    "        \n",
    "        img_array = X_gaf[i]        \n",
    "        img_array_scaled = (img_array * 255).astype(np.uint8)        \n",
    "        img = Image.fromarray(img_array_scaled, mode='L')\n",
    "        img.save(source + Y[i] + \".png\")\n",
    "        \n",
    "        \n",
    "def transform(data, k):\n",
    "\n",
    "    n = len(data)\n",
    "\n",
    "    X = []\n",
    "    Y = []\n",
    "    for i in range(k, n + 1):\n",
    "        X.append(data[i-k:i].values)\n",
    "        Y.append(data.index[i - 1].strftime('%Y-%m-%d'))\n",
    "    \n",
    "    return X, Y\n",
    "\n",
    "def generate(data, window, source):\n",
    "    \n",
    "    X, Y = transform(data, window)\n",
    "    generate_img_GramianAngularField(X, Y, source, window)"
   ]
  },
  {
   "cell_type": "code",
   "execution_count": 81,
   "id": "ba20184e",
   "metadata": {},
   "outputs": [],
   "source": [
    "dis = pd.read_csv(\"E:/SZAKDOLGOZAT/A_DOLOGZAT/downloads/DIS.csv\", index_col = \"Date\", parse_dates = True)\n",
    "dis = dis[dis.index >= np.datetime64(datetime(1998, 1, 1))]\n",
    "source = \"E:/SZAKDOLGOZAT/KUTATAS/IMAGE_GEN/DIS/images_21/Gramian_Angular/gray/\"\n",
    "\n",
    "generate(dis['SMA50'], 21, source)"
   ]
  },
  {
   "cell_type": "code",
   "execution_count": 83,
   "id": "c079f711",
   "metadata": {},
   "outputs": [],
   "source": [
    "f = pd.read_csv(\"E:/SZAKDOLGOZAT/A_DOLOGZAT/downloads/F.csv\", index_col = \"Date\", parse_dates = True)\n",
    "f = f[f.index >= np.datetime64(datetime(1998, 1, 1))]\n",
    "source = \"E:/SZAKDOLGOZAT/KUTATAS/IMAGE_GEN/F/images_21/Gramian_Angular/gray/\"\n",
    "\n",
    "generate(f['SMA50'], 21, source)"
   ]
  },
  {
   "cell_type": "code",
   "execution_count": 84,
   "id": "2abb4d51",
   "metadata": {},
   "outputs": [],
   "source": [
    "ubs = pd.read_csv(\"E:/SZAKDOLGOZAT/A_DOLOGZAT/downloads/UBS.csv\", index_col = \"Date\", parse_dates = True)\n",
    "ubs = ubs[ubs.index >= np.datetime64(datetime(1998, 1, 1))]\n",
    "source = \"E:/SZAKDOLGOZAT/KUTATAS/IMAGE_GEN/UBS/images_21/Gramian_Angular/gray/\"\n",
    "\n",
    "generate(ubs['SMA50'], 21, source)"
   ]
  },
  {
   "cell_type": "code",
   "execution_count": 85,
   "id": "4100a877",
   "metadata": {},
   "outputs": [],
   "source": [
    "xom = pd.read_csv(\"E:/SZAKDOLGOZAT/A_DOLOGZAT/downloads/XOM.csv\", index_col = \"Date\", parse_dates = True)\n",
    "xom = xom[xom.index >= np.datetime64(datetime(1998, 1, 1))]\n",
    "source = \"E:/SZAKDOLGOZAT/KUTATAS/IMAGE_GEN/XOM/images_21/Gramian_Angular/gray/\"\n",
    "\n",
    "generate(xom['SMA50'], 21, source)"
   ]
  },
  {
   "cell_type": "code",
   "execution_count": null,
   "id": "74bcb559",
   "metadata": {},
   "outputs": [],
   "source": []
  }
 ],
 "metadata": {
  "kernelspec": {
   "display_name": "Python 3 (ipykernel)",
   "language": "python",
   "name": "python3"
  },
  "language_info": {
   "codemirror_mode": {
    "name": "ipython",
    "version": 3
   },
   "file_extension": ".py",
   "mimetype": "text/x-python",
   "name": "python",
   "nbconvert_exporter": "python",
   "pygments_lexer": "ipython3",
   "version": "3.9.7"
  }
 },
 "nbformat": 4,
 "nbformat_minor": 5
}
