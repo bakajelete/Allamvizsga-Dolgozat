{
 "cells": [
  {
   "cell_type": "code",
   "execution_count": 9,
   "id": "5602c5eb",
   "metadata": {},
   "outputs": [],
   "source": [
    "import numpy as np\n",
    "import matplotlib.pyplot as plt\n",
    "import pandas as pd\n",
    "import random\n",
    "from datetime import datetime"
   ]
  },
  {
   "cell_type": "code",
   "execution_count": 32,
   "id": "c5a9cc22",
   "metadata": {},
   "outputs": [],
   "source": [
    "def calc_noise_window(df, name):\n",
    "    \n",
    "    mean = np.mean(df[name])\n",
    "    variance = np.var(df[name])\n",
    "    rmse = np.sqrt(np.mean((df[name] - mean)**2))\n",
    "    \n",
    "    noise_coefficient = rmse / mean\n",
    "        \n",
    "    return noise_coefficient\n",
    "\n",
    "def calc_noise_coef(df, name, window):\n",
    "    \n",
    "    n = df.shape[0]\n",
    "    sum_noise = 0\n",
    "    db = 0\n",
    "    \n",
    "    for i in range(window, n):\n",
    "        sum_noise += calc_noise_window(df[i - window:i], name)\n",
    "        db+=1\n",
    "    \n",
    "    return sum_noise/db"
   ]
  },
  {
   "cell_type": "code",
   "execution_count": 12,
   "id": "33aa2e6b",
   "metadata": {},
   "outputs": [],
   "source": [
    "dis = pd.read_csv(\"E:\\SZAKDOLGOZAT\\A_DOLOGZAT\\downloads\\DIS.csv\", index_col = \"Date\", parse_dates = True)\n",
    "dis = dis[dis.index >= np.datetime64(datetime(1998, 1, 1))]\n",
    "\n",
    "f = pd.read_csv(\"E:\\SZAKDOLGOZAT\\A_DOLOGZAT\\downloads\\F.csv\", index_col = \"Date\", parse_dates = True)\n",
    "f = f[f.index >= np.datetime64(datetime(1998, 1, 1))]\n",
    "\n",
    "ubs = pd.read_csv(\"E:\\SZAKDOLGOZAT\\A_DOLOGZAT\\downloads\\\\UBS.csv\", index_col = \"Date\", parse_dates = True)\n",
    "ubs = ubs[ubs.index >= np.datetime64(datetime(1998, 1, 1))]\n",
    "\n",
    "xom = pd.read_csv(\"E:\\SZAKDOLGOZAT\\A_DOLOGZAT\\downloads\\XOM.csv\", index_col = \"Date\", parse_dates = True)\n",
    "xom = xom[xom.index >= np.datetime64(datetime(1998, 1, 1))]"
   ]
  },
  {
   "cell_type": "code",
   "execution_count": 37,
   "id": "1337f29b",
   "metadata": {},
   "outputs": [],
   "source": [
    "dis['Changes'] = dis['Open'].pct_change(periods = 1).fillna(value = 0)\n",
    "f['Changes'] = f['Open'].pct_change(periods = 1).fillna(value = 0)\n",
    "ubs['Changes'] = ubs['Open'].pct_change(periods = 1).fillna(value = 0)\n",
    "xom['Changes'] = xom['Open'].pct_change(periods = 1).fillna(value = 0)"
   ]
  },
  {
   "cell_type": "code",
   "execution_count": null,
   "id": "1b8d6e8c",
   "metadata": {},
   "outputs": [],
   "source": []
  },
  {
   "cell_type": "code",
   "execution_count": 33,
   "id": "4587fc2e",
   "metadata": {},
   "outputs": [
    {
     "name": "stdout",
     "output_type": "stream",
     "text": [
      "dis Open:     0.028717164966528454\n",
      "dis Changes:  -2.7899349722420435\n",
      "dis SMA50:    0.011508330004823347\n"
     ]
    }
   ],
   "source": [
    "print('dis Open:    ', calc_noise_coef(dis, 'Open', 21))\n",
    "print('dis Changes: ', calc_noise_coef(dis, 'Changes', 21))\n",
    "print('dis SMA50:   ', calc_noise_coef(dis, 'SMA50', 21))"
   ]
  },
  {
   "cell_type": "code",
   "execution_count": 34,
   "id": "ef7a7a76",
   "metadata": {},
   "outputs": [
    {
     "name": "stdout",
     "output_type": "stream",
     "text": [
      "f Open:     0.04041330759932511\n",
      "f Changes:  0.34726725536846836\n",
      "f SMA50:    0.016736936700320726\n"
     ]
    }
   ],
   "source": [
    "print('f Open:    ', calc_noise_coef(f, 'Open', 21))\n",
    "print('f Changes: ', calc_noise_coef(f, 'Changes', 21))\n",
    "print('f SMA50:   ', calc_noise_coef(f, 'SMA50', 21))"
   ]
  },
  {
   "cell_type": "code",
   "execution_count": 38,
   "id": "19c9fa4c",
   "metadata": {},
   "outputs": [
    {
     "name": "stdout",
     "output_type": "stream",
     "text": [
      "ubs Open:     0.03361605836390332\n",
      "ubs Changes:  -550.3899391188659\n",
      "ubs SMA50:    0.012956643928552556\n"
     ]
    }
   ],
   "source": [
    "print('ubs Open:    ', calc_noise_coef(ubs, 'Open', 21))\n",
    "print('ubs Changes: ', calc_noise_coef(ubs, 'Changes', 21))\n",
    "print('ubs SMA50:   ', calc_noise_coef(ubs, 'SMA50', 21))"
   ]
  },
  {
   "cell_type": "code",
   "execution_count": 36,
   "id": "5c499a6c",
   "metadata": {},
   "outputs": [
    {
     "name": "stdout",
     "output_type": "stream",
     "text": [
      "xom Open:     0.023303483430995506\n",
      "xom Changes:  -3.9486802770114084\n",
      "xom SMA50:    0.008309195751251367\n"
     ]
    }
   ],
   "source": [
    "print('xom Open:    ', calc_noise_coef(xom, 'Open', 21))\n",
    "print('xom Changes: ', calc_noise_coef(xom, 'Changes', 21))\n",
    "print('xom SMA50:   ', calc_noise_coef(xom, 'SMA50', 21))"
   ]
  },
  {
   "cell_type": "code",
   "execution_count": null,
   "id": "c3863e11",
   "metadata": {},
   "outputs": [],
   "source": []
  }
 ],
 "metadata": {
  "kernelspec": {
   "display_name": "Python 3 (ipykernel)",
   "language": "python",
   "name": "python3"
  },
  "language_info": {
   "codemirror_mode": {
    "name": "ipython",
    "version": 3
   },
   "file_extension": ".py",
   "mimetype": "text/x-python",
   "name": "python",
   "nbconvert_exporter": "python",
   "pygments_lexer": "ipython3",
   "version": "3.9.7"
  }
 },
 "nbformat": 4,
 "nbformat_minor": 5
}
