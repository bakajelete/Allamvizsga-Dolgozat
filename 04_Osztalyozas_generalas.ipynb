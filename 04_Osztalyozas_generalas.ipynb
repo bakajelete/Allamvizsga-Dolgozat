{
 "cells": [
  {
   "cell_type": "code",
   "execution_count": 1,
   "id": "fc3279c3",
   "metadata": {},
   "outputs": [],
   "source": [
    "import numpy as np\n",
    "import matplotlib.pyplot as plt\n",
    "import pandas as pd\n",
    "import random\n",
    "from datetime import datetime"
   ]
  },
  {
   "cell_type": "code",
   "execution_count": 2,
   "id": "7365d37c",
   "metadata": {},
   "outputs": [],
   "source": [
    "def which_class(data, classes):\n",
    "    n = len(data)\n",
    "    m = len(classes)\n",
    "    result = [0] * n\n",
    "    \n",
    "    for i in range(n):\n",
    "        \n",
    "        val = data[i]\n",
    "        \n",
    "        for j in range(int((m+1)/2)):            \n",
    "            if classes[j][0] <= val < classes[j][1]:\n",
    "                result[i] = j\n",
    "                break\n",
    "\n",
    "        for j in range(int((m+1)/2), m):\n",
    "            if classes[j][0] <= val < classes[j][1]:\n",
    "                result[i] = j\n",
    "                break\n",
    "    \n",
    "    return result\n",
    "\n",
    "def create_classification_file(historic_data, column_name, deltas):\n",
    "    \n",
    "    n_hd = historic_data.shape[0]\n",
    "    \n",
    "    for delta in deltas:\n",
    "        \n",
    "        data = historic_data[column_name].pct_change(periods = delta).fillna(value = 0).values[delta:]\n",
    "        \n",
    "        cen = np.mean(data)\n",
    "        std = np.std(data)\n",
    "        \n",
    "        classes_even6 = [[-100, cen-2*std], \n",
    "                        [cen-2*std, cen-1*std], \n",
    "                        [cen-1*std, cen], \n",
    "                        [cen, cen+1*std], \n",
    "                        [cen+1*std, cen+2*std], \n",
    "                        [cen+2*std, 100]]\n",
    "        \n",
    "        classes_even4 = [[-100, cen-1*std], \n",
    "                        [cen-1*std, cen], \n",
    "                        [cen, cen+1*std], \n",
    "                        [cen+1*std, 100]]\n",
    "        \n",
    "        classes_odd3 = [[-100, cen-0.5*std],\n",
    "                       [cen-0.5*std, cen+0.5*std],\n",
    "                       [cen+0.5*std, 100]]\n",
    "        \n",
    "        '''\n",
    "        classes_odd = [[-100, cen-2.5*std],\n",
    "                       [cen-2.5*std, cen-1.5*std],\n",
    "                       [cen-1.5*std, cen-0.5*std],\n",
    "                       [cen-0.5*std, cen+0.5*std],\n",
    "                       [cen+0.5*std, cen+1.5*std],\n",
    "                       [cen+1.5*std, cen+2.5*std],\n",
    "                       [cen+2.5*std, 100]]\n",
    "        '''\n",
    "        \n",
    "        new_even6 = which_class(data, classes_even6)\n",
    "        new_even4 = which_class(data, classes_even4)\n",
    "        new_odd3 = which_class(data, classes_odd3)\n",
    "        \n",
    "        historic_data[str(delta)+'_day_changes'] = list(data) + [np.nan]*(n_hd - len(data))\n",
    "        historic_data[str(delta)+'_day_even_6class'] = new_even6 + [np.nan]*(n_hd - len(new_even6))\n",
    "        historic_data[str(delta)+'_day_even_4class'] = new_even4 + [np.nan]*(n_hd - len(new_even4))\n",
    "        historic_data[str(delta)+'_day_odd_3class'] = new_odd3 + [np.nan]*(n_hd - len(new_odd3))\n",
    "    \n",
    "    return historic_data"
   ]
  },
  {
   "cell_type": "code",
   "execution_count": 3,
   "id": "f791edeb",
   "metadata": {},
   "outputs": [],
   "source": [
    "dis = pd.read_csv(\"E:\\SZAKDOLGOZAT\\A_DOLOGZAT\\downloads\\DIS.csv\", index_col = \"Date\", parse_dates = True)\n",
    "dis = dis[dis.index >= np.datetime64(datetime(1998, 1, 1))]\n",
    "\n",
    "f = pd.read_csv(\"E:\\SZAKDOLGOZAT\\A_DOLOGZAT\\downloads\\F.csv\", index_col = \"Date\", parse_dates = True)\n",
    "f = f[f.index >= np.datetime64(datetime(1998, 1, 1))]\n",
    "\n",
    "ubs = pd.read_csv(\"E:\\SZAKDOLGOZAT\\A_DOLOGZAT\\downloads\\\\UBS.csv\", index_col = \"Date\", parse_dates = True)\n",
    "ubs = ubs[ubs.index >= np.datetime64(datetime(1998, 1, 1))]\n",
    "\n",
    "xom = pd.read_csv(\"E:\\SZAKDOLGOZAT\\A_DOLOGZAT\\downloads\\XOM.csv\", index_col = \"Date\", parse_dates = True)\n",
    "xom = xom[xom.index >= np.datetime64(datetime(1998, 1, 1))]"
   ]
  },
  {
   "cell_type": "code",
   "execution_count": 4,
   "id": "821cc9fa",
   "metadata": {},
   "outputs": [
    {
     "name": "stderr",
     "output_type": "stream",
     "text": [
      "C:\\Users\\Etele\\AppData\\Local\\Temp/ipykernel_21624/1692517275.py:63: SettingWithCopyWarning: \n",
      "A value is trying to be set on a copy of a slice from a DataFrame.\n",
      "Try using .loc[row_indexer,col_indexer] = value instead\n",
      "\n",
      "See the caveats in the documentation: https://pandas.pydata.org/pandas-docs/stable/user_guide/indexing.html#returning-a-view-versus-a-copy\n",
      "  historic_data[str(delta)+'_day_changes'] = list(data) + [np.nan]*(n_hd - len(data))\n",
      "C:\\Users\\Etele\\AppData\\Local\\Temp/ipykernel_21624/1692517275.py:64: SettingWithCopyWarning: \n",
      "A value is trying to be set on a copy of a slice from a DataFrame.\n",
      "Try using .loc[row_indexer,col_indexer] = value instead\n",
      "\n",
      "See the caveats in the documentation: https://pandas.pydata.org/pandas-docs/stable/user_guide/indexing.html#returning-a-view-versus-a-copy\n",
      "  historic_data[str(delta)+'_day_even_6class'] = new_even6 + [np.nan]*(n_hd - len(new_even6))\n",
      "C:\\Users\\Etele\\AppData\\Local\\Temp/ipykernel_21624/1692517275.py:65: SettingWithCopyWarning: \n",
      "A value is trying to be set on a copy of a slice from a DataFrame.\n",
      "Try using .loc[row_indexer,col_indexer] = value instead\n",
      "\n",
      "See the caveats in the documentation: https://pandas.pydata.org/pandas-docs/stable/user_guide/indexing.html#returning-a-view-versus-a-copy\n",
      "  historic_data[str(delta)+'_day_even_4class'] = new_even4 + [np.nan]*(n_hd - len(new_even4))\n",
      "C:\\Users\\Etele\\AppData\\Local\\Temp/ipykernel_21624/1692517275.py:66: SettingWithCopyWarning: \n",
      "A value is trying to be set on a copy of a slice from a DataFrame.\n",
      "Try using .loc[row_indexer,col_indexer] = value instead\n",
      "\n",
      "See the caveats in the documentation: https://pandas.pydata.org/pandas-docs/stable/user_guide/indexing.html#returning-a-view-versus-a-copy\n",
      "  historic_data[str(delta)+'_day_odd_3class'] = new_odd3 + [np.nan]*(n_hd - len(new_odd3))\n"
     ]
    }
   ],
   "source": [
    "dis_classification = create_classification_file(dis[['Open']],'Open',[1])\n",
    "f_classification = create_classification_file(f[['Open']],'Open',[1])\n",
    "ubs_classification = create_classification_file(ubs[['Open']],'Open',[1])\n",
    "xom_classification = create_classification_file(xom[['Open']],'Open',[1])"
   ]
  },
  {
   "cell_type": "code",
   "execution_count": 5,
   "id": "4652f36f",
   "metadata": {},
   "outputs": [],
   "source": [
    "dis_classification.to_csv(\"E:\\SZAKDOLGOZAT\\KUTATAS\\CLASSIFICATION\\DIS_fully_classified.csv\")\n",
    "f_classification.to_csv(\"E:\\SZAKDOLGOZAT\\KUTATAS\\CLASSIFICATION\\F_fully_classified.csv\")\n",
    "ubs_classification.to_csv(\"E:\\SZAKDOLGOZAT\\KUTATAS\\CLASSIFICATION\\\\UBS_fully_classified.csv\")\n",
    "xom_classification.to_csv(\"E:\\SZAKDOLGOZAT\\KUTATAS\\CLASSIFICATION\\XOM_fully_classified.csv\")"
   ]
  },
  {
   "cell_type": "code",
   "execution_count": 6,
   "id": "738711d3",
   "metadata": {},
   "outputs": [
    {
     "data": {
      "text/plain": [
       "[2.3296080591846384,\n",
       " 8.311034157091191,\n",
       " 40.075554855972435,\n",
       " 39.05241618133057,\n",
       " 7.665669762317073,\n",
       " 2.5499763891075076]"
      ]
     },
     "execution_count": 6,
     "metadata": {},
     "output_type": "execute_result"
    },
    {
     "data": {
      "image/png": "[encoded data removed]",
      "text/plain": [
       "<Figure size 576x288 with 1 Axes>"
      ]
     },
     "metadata": {
      "needs_background": "light"
     },
     "output_type": "display_data"
    }
   ],
   "source": [
    "dis_ec = [0.0] * 6\n",
    "for val in dis_classification['1_day_even_6class'][:-1]:\n",
    "    dis_ec[int(val)]+=100/dis_classification.shape[0]\n",
    "\n",
    "fig, ax = plt.subplots(figsize=(8, 4))\n",
    "plt.grid(visible = True)\n",
    "plt.title(\"DIS 1 day change standard deviation 6class\")\n",
    "plt.bar([\"-3std\", \"-2std\",\"-std\",\"+std\", \"+2std\", \"+3std\" ],dis_ec, color = '#00d4fd')\n",
    "dis_ec"
   ]
  },
  {
   "cell_type": "code",
   "execution_count": 7,
   "id": "bdd56904",
   "metadata": {},
   "outputs": [
    {
     "data": {
      "text/plain": [
       "[10.640642216275742, 40.075554855972435, 39.05241618133057, 10.215646151424506]"
      ]
     },
     "execution_count": 7,
     "metadata": {},
     "output_type": "execute_result"
    },
    {
     "data": {
      "image/png": "[encoded data removed]",
      "text/plain": [
       "<Figure size 576x288 with 1 Axes>"
      ]
     },
     "metadata": {
      "needs_background": "light"
     },
     "output_type": "display_data"
    }
   ],
   "source": [
    "dis_ec = [0.0] * 4\n",
    "for val in dis_classification['1_day_even_4class'][:-1]:\n",
    "    dis_ec[int(val)]+=100/dis_classification.shape[0]\n",
    "\n",
    "fig, ax = plt.subplots(figsize=(8, 4))\n",
    "plt.grid(visible = True)\n",
    "plt.title(\"DIS 1 day change standard deviation 4class\")\n",
    "plt.bar([\"-2std\",\"-std\",\"+std\", \"+2std\"],dis_ec, color = '#00d4fd')\n",
    "dis_ec"
   ]
  },
  {
   "cell_type": "code",
   "execution_count": 8,
   "id": "caf77928",
   "metadata": {},
   "outputs": [
    {
     "data": {
      "text/plain": [
       "[24.03588855658691, 52.069888241773974, 23.87848260664201]"
      ]
     },
     "execution_count": 8,
     "metadata": {},
     "output_type": "execute_result"
    },
    {
     "data": {
      "image/png": "[encoded data removed]",
      "text/plain": [
       "<Figure size 576x288 with 1 Axes>"
      ]
     },
     "metadata": {
      "needs_background": "light"
     },
     "output_type": "display_data"
    }
   ],
   "source": [
    "dis_oc = [0.0] * 3\n",
    "for val in dis_classification['1_day_odd_3class'][:-1]:\n",
    "    dis_oc[int(val)]+=100/dis_classification.shape[0]\n",
    "\n",
    "fig, ax = plt.subplots(figsize=(8, 4))\n",
    "plt.grid(visible = True)\n",
    "plt.title(\"DIS 1 day change standard deviation 3class\")\n",
    "plt.bar([\"-2/3std\",\"-std/2 cen +std/2\", \"+2/3std\"],dis_oc, color = '#00d4fd')\n",
    "dis_oc"
   ]
  },
  {
   "cell_type": "code",
   "execution_count": null,
   "id": "8f09a1b7",
   "metadata": {},
   "outputs": [],
   "source": []
  },
  {
   "cell_type": "code",
   "execution_count": 9,
   "id": "d751a3ce",
   "metadata": {},
   "outputs": [
    {
     "data": {
      "text/plain": [
       "[1.668503069416026,\n",
       " 7.146230127498867,\n",
       " 43.25515504485946,\n",
       " 38.89501023138567,\n",
       " 7.004564772548447,\n",
       " 2.0147961592948254]"
      ]
     },
     "execution_count": 9,
     "metadata": {},
     "output_type": "execute_result"
    },
    {
     "data": {
      "image/png": "[encoded data removed]",
      "text/plain": [
       "<Figure size 576x288 with 1 Axes>"
      ]
     },
     "metadata": {
      "needs_background": "light"
     },
     "output_type": "display_data"
    }
   ],
   "source": [
    "f_ec = [0.0] * 6\n",
    "for val in f_classification['1_day_even_6class'][:-1]:\n",
    "    f_ec[int(val)]+=100/f_classification.shape[0]\n",
    "\n",
    "    \n",
    "fig, ax = plt.subplots(figsize=(8, 4))\n",
    "plt.grid(visible = True)\n",
    "plt.title(\"F 1 day change standard deviation 6class\")\n",
    "plt.bar([\"-3std\", \"-2std\",\"-std\",\"+std\", \"+2std\", \"+3std\" ],f_ec, color = '#003478')\n",
    "f_ec"
   ]
  },
  {
   "cell_type": "code",
   "execution_count": 18,
   "id": "9aee337c",
   "metadata": {},
   "outputs": [
    {
     "data": {
      "text/plain": [
       "[8.814733196914878, 43.25515504485946, 38.89501023138567, 9.01936093184325]"
      ]
     },
     "execution_count": 18,
     "metadata": {},
     "output_type": "execute_result"
    },
    {
     "data": {
      "image/png": "[encoded data removed]",
      "text/plain": [
       "<Figure size 576x288 with 1 Axes>"
      ]
     },
     "metadata": {
      "needs_background": "light"
     },
     "output_type": "display_data"
    }
   ],
   "source": [
    "f_ec = [0.0] * 4\n",
    "for val in f_classification['1_day_even_4class'][:-1]:\n",
    "    f_ec[int(val)]+=100/f_classification.shape[0]\n",
    "    \n",
    "fig, ax = plt.subplots(figsize=(8, 4))\n",
    "plt.grid(visible = True)\n",
    "plt.title(\"F 1 day change standard deviation 4class\")\n",
    "plt.bar([\"-2std\",\"-std\",\"+std\", \"+2std\"],f_ec, color = '#003478')\n",
    "f_ec"
   ]
  },
  {
   "cell_type": "code",
   "execution_count": 11,
   "id": "754a7f43",
   "metadata": {},
   "outputs": [
    {
     "data": {
      "text/plain": [
       "[22.39886667715993, 55.80040925546815, 21.78498347237481]"
      ]
     },
     "execution_count": 11,
     "metadata": {},
     "output_type": "execute_result"
    },
    {
     "data": {
      "image/png": "[encoded data removed]",
      "text/plain": [
       "<Figure size 576x288 with 1 Axes>"
      ]
     },
     "metadata": {
      "needs_background": "light"
     },
     "output_type": "display_data"
    }
   ],
   "source": [
    "f_oc = [0.0] * 3\n",
    "for val in f_classification['1_day_odd_3class'][:-1]:\n",
    "    f_oc[int(val)]+=100/f_classification.shape[0]\n",
    "\n",
    "fig, ax = plt.subplots(figsize=(8, 4))\n",
    "plt.grid(visible = True)\n",
    "plt.title(\"F 1 day change standard deviation 3class\")\n",
    "plt.bar([\"-2/3std\",\"-std/2 cen +std/2\", \"+2/3std\"],f_oc, color = '#003478')\n",
    "f_oc"
   ]
  },
  {
   "cell_type": "code",
   "execution_count": null,
   "id": "59b3d651",
   "metadata": {},
   "outputs": [],
   "source": []
  },
  {
   "cell_type": "code",
   "execution_count": 12,
   "id": "fe72cb60",
   "metadata": {},
   "outputs": [
    {
     "data": {
      "text/plain": [
       "[1.841556636553159,\n",
       " 7.887421820708797,\n",
       " 47.74148714384972,\n",
       " 42.929117442668854,\n",
       " 7.731063238359944,\n",
       " 2.2237665045170214]"
      ]
     },
     "execution_count": 12,
     "metadata": {},
     "output_type": "execute_result"
    },
    {
     "data": {
      "image/png": "[encoded data removed]",
      "text/plain": [
       "<Figure size 576x288 with 1 Axes>"
      ]
     },
     "metadata": {
      "needs_background": "light"
     },
     "output_type": "display_data"
    }
   ],
   "source": [
    "ubs_ec = [0.0] * 6\n",
    "for val in f_classification['1_day_even_6class'][:-1]:\n",
    "    ubs_ec[int(val)]+=100/ubs_classification.shape[0]\n",
    "\n",
    "fig, ax = plt.subplots(figsize=(8, 4))\n",
    "plt.grid(visible = True)\n",
    "plt.title(\"UBS 1 day change standard deviation 6class\")\n",
    "plt.bar([\"-3std\", \"-2std\",\"-std\",\"+std\", \"+2std\", \"+3std\" ],ubs_ec, color = '#000000')\n",
    "ubs_ec"
   ]
  },
  {
   "cell_type": "code",
   "execution_count": 13,
   "id": "82587c8f",
   "metadata": {},
   "outputs": [
    {
     "data": {
      "text/plain": [
       "[9.850590687977725, 39.54134815844406, 41.40027797081356, 9.190410006949236]"
      ]
     },
     "execution_count": 13,
     "metadata": {},
     "output_type": "execute_result"
    },
    {
     "data": {
      "image/png": "[encoded data removed]",
      "text/plain": [
       "<Figure size 576x288 with 1 Axes>"
      ]
     },
     "metadata": {
      "needs_background": "light"
     },
     "output_type": "display_data"
    }
   ],
   "source": [
    "ubs_ec = [0.0] * 4\n",
    "for val in ubs_classification['1_day_even_4class'][:-1]:\n",
    "    ubs_ec[int(val)]+=100/ubs_classification.shape[0]\n",
    "\n",
    "fig, ax = plt.subplots(figsize=(8, 4))\n",
    "plt.grid(visible = True)\n",
    "plt.title(\"UBS 1 day change standard deviation 4class\")\n",
    "plt.bar([\"-2std\",\"-std\",\"+std\", \"+2std\"],ubs_ec, color = '#000000')\n",
    "ubs_ec"
   ]
  },
  {
   "cell_type": "code",
   "execution_count": 14,
   "id": "7bbb2ec9",
   "metadata": {},
   "outputs": [
    {
     "data": {
      "text/plain": [
       "[22.619874913134705, 54.603891591381995, 22.758860319667033]"
      ]
     },
     "execution_count": 14,
     "metadata": {},
     "output_type": "execute_result"
    },
    {
     "data": {
      "image/png": "[encoded data removed]",
      "text/plain": [
       "<Figure size 576x288 with 1 Axes>"
      ]
     },
     "metadata": {
      "needs_background": "light"
     },
     "output_type": "display_data"
    }
   ],
   "source": [
    "ubs_oc = [0.0] * 3\n",
    "for val in ubs_classification['1_day_odd_3class'][:-1]:\n",
    "    ubs_oc[int(val)]+=100/ubs_classification.shape[0]\n",
    "\n",
    "fig, ax = plt.subplots(figsize=(8, 4))\n",
    "plt.grid(visible = True)\n",
    "plt.title(\"UBS 1 day change standard deviation 3class\")\n",
    "plt.bar([\"-2/3std\",\"-std/2 cen +std/2\", \"+2/3std\"],ubs_oc, color = '#000000')\n",
    "ubs_oc"
   ]
  },
  {
   "cell_type": "code",
   "execution_count": null,
   "id": "4304880e",
   "metadata": {},
   "outputs": [],
   "source": []
  },
  {
   "cell_type": "code",
   "execution_count": 15,
   "id": "db486a69",
   "metadata": {},
   "outputs": [
    {
     "data": {
      "text/plain": [
       "[2.61293876908547,\n",
       " 9.349913426727545,\n",
       " 37.33669132693114,\n",
       " 39.4931528411763,\n",
       " 8.830473791909368,\n",
       " 2.3610892491736197]"
      ]
     },
     "execution_count": 15,
     "metadata": {},
     "output_type": "execute_result"
    },
    {
     "data": {
      "image/png": "[encoded data removed]",
      "text/plain": [
       "<Figure size 576x288 with 1 Axes>"
      ]
     },
     "metadata": {
      "needs_background": "light"
     },
     "output_type": "display_data"
    }
   ],
   "source": [
    "xom_ec = [0.0] * 6\n",
    "for val in xom_classification['1_day_even_6class'][:-1]:\n",
    "    xom_ec[int(val)]+=100/xom_classification.shape[0]\n",
    "\n",
    "fig, ax = plt.subplots(figsize=(8, 4))\n",
    "plt.grid(visible = True)\n",
    "plt.title(\"XOM 1 day change standard deviation 6class\")\n",
    "plt.bar([\"-3std\", \"-2std\",\"-std\",\"+std\", \"+2std\", \"+3std\" ],xom_ec, color = '#F01523')\n",
    "xom_ec"
   ]
  },
  {
   "cell_type": "code",
   "execution_count": 16,
   "id": "1c67114f",
   "metadata": {},
   "outputs": [
    {
     "data": {
      "text/plain": [
       "[11.96285219581292, 37.33669132693114, 39.4931528411763, 11.1915630410829]"
      ]
     },
     "execution_count": 16,
     "metadata": {},
     "output_type": "execute_result"
    },
    {
     "data": {
      "image/png": "[encoded data removed]",
      "text/plain": [
       "<Figure size 576x288 with 1 Axes>"
      ]
     },
     "metadata": {
      "needs_background": "light"
     },
     "output_type": "display_data"
    }
   ],
   "source": [
    "xom_ec = [0.0] * 4\n",
    "for val in xom_classification['1_day_even_4class'][:-1]:\n",
    "    xom_ec[int(val)]+=100/xom_classification.shape[0]\n",
    "\n",
    "fig, ax = plt.subplots(figsize=(8, 4))\n",
    "plt.grid(visible = True)\n",
    "plt.title(\"XOM 1 day change standard deviation 4class\")\n",
    "plt.bar([\"-2std\",\"-std\",\"+std\", \"+2std\"],xom_ec, color = '#F01523')\n",
    "xom_ec"
   ]
  },
  {
   "cell_type": "code",
   "execution_count": 17,
   "id": "9475a947",
   "metadata": {},
   "outputs": [
    {
     "data": {
      "text/plain": [
       "[25.37383913111858, 48.9689910278594, 25.641429246024913]"
      ]
     },
     "execution_count": 17,
     "metadata": {},
     "output_type": "execute_result"
    },
    {
     "data": {
      "image/png": "[encoded data removed]",
      "text/plain": [
       "<Figure size 576x288 with 1 Axes>"
      ]
     },
     "metadata": {
      "needs_background": "light"
     },
     "output_type": "display_data"
    }
   ],
   "source": [
    "xom_oc = [0.0] * 3\n",
    "for val in xom_classification['1_day_odd_3class'][:-1]:\n",
    "    xom_oc[int(val)]+=100/xom_classification.shape[0]\n",
    "\n",
    "fig, ax = plt.subplots(figsize=(8, 4))\n",
    "plt.grid(visible = True)\n",
    "plt.title(\"XOM 1 day change standard deviation 3class\")\n",
    "plt.bar([\"-2/3std\",\"-std/2 cen +std/2\", \"+2/3std\"], xom_oc, color = '#F01523')\n",
    "xom_oc"
   ]
  },
  {
   "cell_type": "code",
   "execution_count": null,
   "id": "52370e82",
   "metadata": {},
   "outputs": [],
   "source": []
  }
 ],
 "metadata": {
  "kernelspec": {
   "display_name": "Python 3 (ipykernel)",
   "language": "python",
   "name": "python3"
  },
  "language_info": {
   "codemirror_mode": {
    "name": "ipython",
    "version": 3
   },
   "file_extension": ".py",
   "mimetype": "text/x-python",
   "name": "python",
   "nbconvert_exporter": "python",
   "pygments_lexer": "ipython3",
   "version": "3.9.7"
  }
 },
 "nbformat": 4,
 "nbformat_minor": 5
}
